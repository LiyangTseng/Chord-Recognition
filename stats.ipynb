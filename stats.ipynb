{
 "metadata": {
  "language_info": {
   "codemirror_mode": {
    "name": "ipython",
    "version": 3
   },
   "file_extension": ".py",
   "mimetype": "text/x-python",
   "name": "python",
   "nbconvert_exporter": "python",
   "pygments_lexer": "ipython3",
   "version": "3.8.3-final"
  },
  "orig_nbformat": 2,
  "kernelspec": {
   "name": "python3",
   "display_name": "Python 3"
  }
 },
 "nbformat": 4,
 "nbformat_minor": 2,
 "cells": [
  {
   "cell_type": "code",
   "execution_count": 1,
   "metadata": {},
   "outputs": [],
   "source": [
    "import pandas as pd \n"
   ]
  },
  {
   "cell_type": "code",
   "execution_count": 2,
   "metadata": {},
   "outputs": [
    {
     "output_type": "execute_result",
     "data": {
      "text/plain": [
       "      id  accuracy                                              title\n",
       "0      1  0.851800  John Mayer - Waiting On the World to Change (O...\n",
       "1      2  0.415056        John Mayer - Heartbreak Warfare (Video).lab\n",
       "2      3  0.501338      John Mayer - New Light (Premium Content!).lab\n",
       "3      4  0.449830  Daft Punk - Get Lucky (Official Audio) ft. Pha...\n",
       "4      5  0.638169                           Shallow (Radio Edit).lab\n",
       "..   ...       ...                                                ...\n",
       "188  196  0.695227  Kings Of Leon - Use Somebody (Official Video).lab\n",
       "189  197  0.593050  Sarah McLachlan - Angel [Official Music Video]...\n",
       "190  198  0.883917          Alicia Keys - No One (Official Video).lab\n",
       "191  199  0.822839                 Lady Antebellum - Need You Now.lab\n",
       "192  200  0.757350  Lifehouse - Hanging By A Moment (Official Vide...\n",
       "\n",
       "[193 rows x 3 columns]"
      ],
      "text/html": "<div>\n<style scoped>\n    .dataframe tbody tr th:only-of-type {\n        vertical-align: middle;\n    }\n\n    .dataframe tbody tr th {\n        vertical-align: top;\n    }\n\n    .dataframe thead th {\n        text-align: right;\n    }\n</style>\n<table border=\"1\" class=\"dataframe\">\n  <thead>\n    <tr style=\"text-align: right;\">\n      <th></th>\n      <th>id</th>\n      <th>accuracy</th>\n      <th>title</th>\n    </tr>\n  </thead>\n  <tbody>\n    <tr>\n      <th>0</th>\n      <td>1</td>\n      <td>0.851800</td>\n      <td>John Mayer - Waiting On the World to Change (O...</td>\n    </tr>\n    <tr>\n      <th>1</th>\n      <td>2</td>\n      <td>0.415056</td>\n      <td>John Mayer - Heartbreak Warfare (Video).lab</td>\n    </tr>\n    <tr>\n      <th>2</th>\n      <td>3</td>\n      <td>0.501338</td>\n      <td>John Mayer - New Light (Premium Content!).lab</td>\n    </tr>\n    <tr>\n      <th>3</th>\n      <td>4</td>\n      <td>0.449830</td>\n      <td>Daft Punk - Get Lucky (Official Audio) ft. Pha...</td>\n    </tr>\n    <tr>\n      <th>4</th>\n      <td>5</td>\n      <td>0.638169</td>\n      <td>Shallow (Radio Edit).lab</td>\n    </tr>\n    <tr>\n      <th>...</th>\n      <td>...</td>\n      <td>...</td>\n      <td>...</td>\n    </tr>\n    <tr>\n      <th>188</th>\n      <td>196</td>\n      <td>0.695227</td>\n      <td>Kings Of Leon - Use Somebody (Official Video).lab</td>\n    </tr>\n    <tr>\n      <th>189</th>\n      <td>197</td>\n      <td>0.593050</td>\n      <td>Sarah McLachlan - Angel [Official Music Video]...</td>\n    </tr>\n    <tr>\n      <th>190</th>\n      <td>198</td>\n      <td>0.883917</td>\n      <td>Alicia Keys - No One (Official Video).lab</td>\n    </tr>\n    <tr>\n      <th>191</th>\n      <td>199</td>\n      <td>0.822839</td>\n      <td>Lady Antebellum - Need You Now.lab</td>\n    </tr>\n    <tr>\n      <th>192</th>\n      <td>200</td>\n      <td>0.757350</td>\n      <td>Lifehouse - Hanging By A Moment (Official Vide...</td>\n    </tr>\n  </tbody>\n</table>\n<p>193 rows × 3 columns</p>\n</div>"
     },
     "metadata": {},
     "execution_count": 2
    }
   ],
   "source": [
    "data = pd.read_csv('score.csv')\n",
    "data"
   ]
  },
  {
   "cell_type": "code",
   "execution_count": 3,
   "metadata": {},
   "outputs": [
    {
     "output_type": "stream",
     "name": "stdout",
     "text": [
      "average accuracy: 0.6581755597431462\nmedian accuracy: 0.6794336876606979\n"
     ]
    }
   ],
   "source": [
    "print(\"average accuracy: {acc}\".format(acc=data['accuracy'].mean()))\n",
    "print(\"median accuracy: {med}\".format(med=data['accuracy'].median()))"
   ]
  },
  {
   "cell_type": "code",
   "execution_count": 4,
   "metadata": {},
   "outputs": [
    {
     "output_type": "execute_result",
     "data": {
      "text/plain": [
       "      id  accuracy                                              title\n",
       "0      1  0.833350  John Mayer - Waiting On the World to Change (O...\n",
       "1      2  0.405548  John Mayer - Heartbreak Warfare (Video)_separa...\n",
       "2      3  0.595261  John Mayer - New Light (Premium Content!)_sepa...\n",
       "3      4  0.541185  Daft Punk - Get Lucky (Official Audio) ft. Pha...\n",
       "4      5  0.667730                 Shallow (Radio Edit)_separated.lab\n",
       "..   ...       ...                                                ...\n",
       "188  196  0.671480  Kings Of Leon - Use Somebody (Official Video)_...\n",
       "189  197  0.605741  Sarah McLachlan - Angel [Official Music Video]...\n",
       "190  198  0.882432  Alicia Keys - No One (Official Video)_separate...\n",
       "191  199  0.774207       Lady Antebellum - Need You Now_separated.lab\n",
       "192  200  0.712254  Lifehouse - Hanging By A Moment (Official Vide...\n",
       "\n",
       "[193 rows x 3 columns]"
      ],
      "text/html": "<div>\n<style scoped>\n    .dataframe tbody tr th:only-of-type {\n        vertical-align: middle;\n    }\n\n    .dataframe tbody tr th {\n        vertical-align: top;\n    }\n\n    .dataframe thead th {\n        text-align: right;\n    }\n</style>\n<table border=\"1\" class=\"dataframe\">\n  <thead>\n    <tr style=\"text-align: right;\">\n      <th></th>\n      <th>id</th>\n      <th>accuracy</th>\n      <th>title</th>\n    </tr>\n  </thead>\n  <tbody>\n    <tr>\n      <th>0</th>\n      <td>1</td>\n      <td>0.833350</td>\n      <td>John Mayer - Waiting On the World to Change (O...</td>\n    </tr>\n    <tr>\n      <th>1</th>\n      <td>2</td>\n      <td>0.405548</td>\n      <td>John Mayer - Heartbreak Warfare (Video)_separa...</td>\n    </tr>\n    <tr>\n      <th>2</th>\n      <td>3</td>\n      <td>0.595261</td>\n      <td>John Mayer - New Light (Premium Content!)_sepa...</td>\n    </tr>\n    <tr>\n      <th>3</th>\n      <td>4</td>\n      <td>0.541185</td>\n      <td>Daft Punk - Get Lucky (Official Audio) ft. Pha...</td>\n    </tr>\n    <tr>\n      <th>4</th>\n      <td>5</td>\n      <td>0.667730</td>\n      <td>Shallow (Radio Edit)_separated.lab</td>\n    </tr>\n    <tr>\n      <th>...</th>\n      <td>...</td>\n      <td>...</td>\n      <td>...</td>\n    </tr>\n    <tr>\n      <th>188</th>\n      <td>196</td>\n      <td>0.671480</td>\n      <td>Kings Of Leon - Use Somebody (Official Video)_...</td>\n    </tr>\n    <tr>\n      <th>189</th>\n      <td>197</td>\n      <td>0.605741</td>\n      <td>Sarah McLachlan - Angel [Official Music Video]...</td>\n    </tr>\n    <tr>\n      <th>190</th>\n      <td>198</td>\n      <td>0.882432</td>\n      <td>Alicia Keys - No One (Official Video)_separate...</td>\n    </tr>\n    <tr>\n      <th>191</th>\n      <td>199</td>\n      <td>0.774207</td>\n      <td>Lady Antebellum - Need You Now_separated.lab</td>\n    </tr>\n    <tr>\n      <th>192</th>\n      <td>200</td>\n      <td>0.712254</td>\n      <td>Lifehouse - Hanging By A Moment (Official Vide...</td>\n    </tr>\n  </tbody>\n</table>\n<p>193 rows × 3 columns</p>\n</div>"
     },
     "metadata": {},
     "execution_count": 4
    }
   ],
   "source": [
    "data = pd.read_csv('score_separated.csv')\n",
    "data"
   ]
  },
  {
   "cell_type": "code",
   "execution_count": 5,
   "metadata": {},
   "outputs": [
    {
     "output_type": "stream",
     "name": "stdout",
     "text": [
      "average accuracy: 0.6456880083890569\nmedian accuracy: 0.6677304665342736\n"
     ]
    }
   ],
   "source": [
    "print(\"average accuracy: {acc}\".format(acc=data['accuracy'].mean()))\n",
    "print(\"median accuracy: {med}\".format(med=data['accuracy'].median()))"
   ]
  },
  {
   "cell_type": "code",
   "execution_count": null,
   "metadata": {},
   "outputs": [],
   "source": []
  }
 ]
}